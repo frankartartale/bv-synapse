{
  "cells": [
    {
      "cell_type": "code",
      "source": [
        "%%pyspark \r\n",
        "\r\n",
        "from pyspark.sql.functions import explode\r\n",
        "from pyspark.sql.functions import col, concat_ws\r\n",
        "\r\n",
        "\r\n",
        "filewqual = \"esgupload/*\"\r\n",
        "\r\n",
        "### you need to change the path to point the containing folder of the esgupload folder. this folder must contain only\r\n",
        "### file files pushed from the power automate ESG extract flow\r\n",
        "thefile = \"abfss://workspace@stgbvnews.dfs.core.windows.net/synapse/workspaces/wsbvnews/warehouse/\" + filewqual + \".json\"\r\n",
        "df_raw = spark.read.load(thefile, format='json')\r\n",
        "\r\n",
        "\r\n",
        "### flatten the phrases and referenced orgs\r\n",
        "ro = df_raw.withColumn(\"phrases\", concat_ws(\",\", col(\"phrases\")))\\\r\n",
        "                        .withColumn(\"referencedOrgs\", concat_ws(\"|\", \"referencedOrgs.name\"))\r\n",
        "\r\n",
        "\r\n",
        "### explode the signals and themes\r\n",
        "signals_ex = ro.select(ro.title,ro.excerpt, ro.phrases, ro.themes, ro.sentiment, ro.significance, ro.referencedOrgs, explode(ro.signals).alias(\"signal\"))\r\n",
        "df_final  = signals_ex.select(signals_ex.signal,\r\n",
        "    signals_ex.title,signals_ex.excerpt, signals_ex.phrases,  signals_ex.sentiment, signals_ex.significance, signals_ex.referencedOrgs, explode(signals_ex.themes).alias(\"theme\"))\r\n",
        "\r\n",
        "\r\n",
        "spark.sql(\"CREATE DATABASE IF NOT EXISTS bitvorenews\")\r\n",
        "\r\n",
        "\r\n",
        "### overwrite the  table\r\n",
        "df_final.write.mode(\"overwrite\").saveAsTable(\"bitvorenews.sigtheme_ex\")\r\n",
        "\r\n",
        "df_final.printSchema()\r\n",
        "display(df_final.limit(100))"
      ],
      "outputs": [
        {
          "output_type": "display_data",
          "data": {
            "application/vnd.livy.statement-meta+json": {
              "spark_pool": "bitvorespark",
              "session_id": 15,
              "statement_id": 1,
              "state": "submitted",
              "livy_statement_state": "running",
              "queued_time": "2021-03-27T01:27:05.1191883Z",
              "execution_start_time": "2021-03-27T01:31:02.1121423Z",
              "execution_finish_time": null
            },
            "text/plain": "StatementMeta(bitvorespark, 15, 1, Submitted, Running)"
          },
          "metadata": {}
        }
      ],
      "execution_count": 1,
      "metadata": {
        "microsoft": {
          "language": "python"
        },
        "collapsed": false
      }
    },
    {
      "cell_type": "code",
      "source": [
        "%%spark\r\n",
        "val sql_write_df = spark.sql(\"SELECT title, significance, referencedOrgs, signal, theme, phrases, sentiment FROM bitvorenews.sigtheme_ex \")\r\n",
        "\r\n",
        "sql_write_df.write.mode(\"overwrite\").sqlanalytics(\"bitvoresql.dbo.sigtheme_all\", Constants.INTERNAL)"
      ],
      "outputs": [
        {
          "output_type": "display_data",
          "data": {
            "application/vnd.livy.statement-meta+json": {
              "spark_pool": "bitvorespark",
              "session_id": 0,
              "statement_id": 3,
              "state": "finished",
              "livy_statement_state": "available",
              "queued_time": "2021-03-15T14:15:33.893019Z",
              "execution_start_time": "2021-03-15T14:15:36.1663096Z",
              "execution_finish_time": "2021-03-15T14:16:23.6314913Z"
            },
            "text/plain": "StatementMeta(bitvorespark, 0, 3, Finished, Available)"
          },
          "metadata": {}
        },
        {
          "output_type": "execute_result",
          "execution_count": 2,
          "data": {
            "text/plain": "sql_write_df: org.apache.spark.sql.DataFrame = [title: string, significance: string ... 5 more fields]\n"
          },
          "metadata": {}
        }
      ],
      "execution_count": 2,
      "metadata": {
        "jupyter": {
          "source_hidden": false,
          "outputs_hidden": false
        },
        "nteract": {
          "transient": {
            "deleting": false
          }
        },
        "microsoft": {
          "language": "scala"
        },
        "collapsed": true
      }
    }
  ],
  "metadata": {
    "kernelspec": {
      "name": "synapse_pyspark",
      "language": "Python",
      "display_name": "Synapse PySpark"
    },
    "language_info": {
      "name": "python"
    },
    "microsoft": {
      "language": "python"
    },
    "kernel_info": {
      "name": "synapse_pyspark"
    },
    "nteract": {
      "version": "nteract-front-end@1.0.0"
    },
    "save_output": true,
    "synapse_widget": {
      "version": "0.1",
      "state": {}
    }
  },
  "nbformat": 4,
  "nbformat_minor": 2
}