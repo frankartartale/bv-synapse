{
  "cells": [
    {
      "cell_type": "code",
      "source": [
        "%%pyspark\r\n",
        "\r\n",
        "from pyspark.sql.types import FloatType\r\n",
        "\r\n",
        "from pyspark.sql.functions import col, concat_ws\r\n",
        "from pyspark.sql.functions import *\r\n",
        "\r\n",
        "from pyspark.sql.types import TimestampType\r\n",
        "from pyspark.sql.functions import unix_timestamp\r\n",
        "\r\n",
        "### read the upload file into a dataframe\r\n",
        "filewqual = \"corp-signals-public-us-2020.csv\"\r\n",
        "\r\n",
        "### CHANGE THE @XXXXXX name to your storage workspace\r\n",
        "thefile = \"abfss://workspace@stgbvnews.dfs.core.windows.net/BitvoreDatasets/\" + filewqual\r\n",
        "\r\n",
        "df_raw = spark.read.options(header = 'True').csv(thefile)\r\n",
        "\r\n",
        "df_raw.printSchema()\r\n",
        "\r\n",
        "### Convert sentiment string to a float\r\n",
        "### Convert strings representing date / times to spark timestamps and extract dates to new cols\r\n",
        "df_conv = df_raw.withColumn(\"Sentiment\", df_raw.Sentiment.cast('float'))\\\r\n",
        "                .withColumn(\"AvailableAt\",unix_timestamp(\"AvailableAt\", 'MM/dd/yyyy HH:mm').cast(TimestampType()))\\\r\n",
        "                .withColumn(\"dateAvailable\", to_date(col(\"AvailableAt\")) )\\\r\n",
        "                .withColumn(\"PublishedAt\",unix_timestamp(\"PublishedAt\", 'MM/dd/yyyy HH:mm').cast(TimestampType()))\\\r\n",
        "                .withColumn(\"datePub\", to_date(col(\"PublishedAt\")) )\\\r\n",
        "                .withColumn(\"LastModified\",unix_timestamp(\"LastModified\", 'MM/dd/yyyy HH:mm').cast(TimestampType()))\\\r\n",
        "                .withColumn(\"dateLastModified\", to_date(col(\"LastModified\")) )\r\n",
        "\r\n",
        "\r\n",
        "df_conv.printSchema()\r\n",
        "\r\n",
        "spark.sql(\"CREATE DATABASE IF NOT EXISTS bitvorenews\")\r\n",
        "\r\n",
        "\r\n",
        "### overwrite the  table\r\n",
        "df_conv.write.mode(\"overwrite\").saveAsTable(\"bitvorenews.signalspublic2020\")\r\n",
        "\r\n",
        "\r\n"
      ],
      "outputs": [
        {
          "output_type": "display_data",
          "data": {
            "application/vnd.livy.statement-meta+json": {
              "spark_pool": "bitvorespark",
              "session_id": 13,
              "statement_id": 14,
              "state": "finished",
              "livy_statement_state": "available",
              "queued_time": "2021-03-26T13:47:50.5710502Z",
              "execution_start_time": "2021-03-26T13:47:50.7260482Z",
              "execution_finish_time": "2021-03-26T13:48:05.1893693Z"
            },
            "text/plain": "StatementMeta(bitvorespark, 13, 14, Finished, Available)"
          },
          "metadata": {}
        },
        {
          "output_type": "execute_result",
          "execution_count": 14,
          "data": {
            "text/plain": "root\n |-- Key: string (nullable = true)\n |-- ArticleType: string (nullable = true)\n |-- AvailableAt: string (nullable = true)\n |-- PublishedAt: string (nullable = true)\n |-- CompanyId: string (nullable = true)\n |-- CompanyName: string (nullable = true)\n |-- Signal: string (nullable = true)\n |-- Sentiment: string (nullable = true)\n |-- SourceUrl: string (nullable = true)\n |-- SourceName: string (nullable = true)\n |-- PreviewImageUrl: string (nullable = true)\n |-- SimilarityId: string (nullable = true)\n |-- LastModified: string (nullable = true)\n\nroot\n |-- Key: string (nullable = true)\n |-- ArticleType: string (nullable = true)\n |-- AvailableAt: timestamp (nullable = true)\n |-- PublishedAt: timestamp (nullable = true)\n |-- CompanyId: string (nullable = true)\n |-- CompanyName: string (nullable = true)\n |-- Signal: string (nullable = true)\n |-- Sentiment: float (nullable = true)\n |-- SourceUrl: string (nullable = true)\n |-- SourceName: string (nullable = true)\n |-- PreviewImageUrl: string (nullable = true)\n |-- SimilarityId: string (nullable = true)\n |-- LastModified: timestamp (nullable = true)\n |-- dateAvailable: date (nullable = true)\n |-- datePub: date (nullable = true)\n |-- dateLastModified: date (nullable = true)"
          },
          "metadata": {}
        }
      ],
      "execution_count": 14,
      "metadata": {
        "microsoft": {
          "language": "python"
        }
      }
    },
    {
      "cell_type": "code",
      "source": [
        "%%spark\r\n",
        "val sql_write_df = spark.sql(\"SELECT * FROM bitvorenews.signalspublic2021\")\r\n",
        "\r\n",
        "sql_write_df.write.mode(\"overwrite\").sqlanalytics(\"bitvoresql.dbo.signalspublic2021\", Constants.INTERNAL)"
      ],
      "outputs": [
        {
          "output_type": "display_data",
          "data": {
            "application/vnd.livy.statement-meta+json": {
              "spark_pool": "bitvorespark",
              "session_id": 8,
              "statement_id": 5,
              "state": "finished",
              "livy_statement_state": "available",
              "queued_time": "2021-03-23T12:53:31.1396668Z",
              "execution_start_time": "2021-03-23T12:53:33.3893266Z",
              "execution_finish_time": "2021-03-23T12:56:49.5383356Z"
            },
            "text/plain": "StatementMeta(bitvorespark, 8, 5, Finished, Available)"
          },
          "metadata": {}
        },
        {
          "output_type": "execute_result",
          "execution_count": 7,
          "data": {
            "text/plain": "StructuredStream-spark package version: 2.4.5-1.3.1\nsql_write_df: org.apache.spark.sql.DataFrame = [Key: string, ArticleType: string ... 11 more fields]\nStructuredStream-spark package version: 2.4.5-1.3.1\nStructuredStream-spark package version: 2.4.5-1.3.1\nStructuredStream-spark package version: 2.4.5-1.3.1\n"
          },
          "metadata": {}
        }
      ],
      "execution_count": 7,
      "metadata": {
        "jupyter": {
          "source_hidden": false,
          "outputs_hidden": false
        },
        "nteract": {
          "transient": {
            "deleting": false
          }
        },
        "microsoft": {
          "language": "scala"
        },
        "collapsed": true
      }
    }
  ],
  "metadata": {
    "kernelspec": {
      "name": "synapse_pyspark",
      "display_name": "python"
    },
    "language_info": {
      "name": "python"
    },
    "microsoft": {
      "language": "python"
    },
    "nteract": {
      "version": "nteract-front-end@1.0.0"
    },
    "save_output": true,
    "synapse_widget": {
      "version": "0.1",
      "state": {}
    }
  },
  "nbformat": 4,
  "nbformat_minor": 2
}